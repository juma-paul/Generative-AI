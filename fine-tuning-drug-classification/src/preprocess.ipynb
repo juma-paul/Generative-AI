{
 "cells": [
  {
   "cell_type": "markdown",
   "metadata": {},
   "source": [
    "### A. Import necessary packages"
   ]
  },
  {
   "cell_type": "code",
   "execution_count": 3,
   "metadata": {},
   "outputs": [],
   "source": [
    "import pandas as pd\n",
    "import numpy as np\n",
    "import json, os\n",
    "from sklearn.model_selection import train_test_split\n",
    "from dotenv import load_dotenv\n",
    "from openai import OpenAI"
   ]
  },
  {
   "cell_type": "markdown",
   "metadata": {},
   "source": [
    "### B. Data loading and preprocessing"
   ]
  },
  {
   "cell_type": "markdown",
   "metadata": {},
   "source": [
    "#### 1. Load data from excel file"
   ]
  },
  {
   "cell_type": "code",
   "execution_count": 80,
   "metadata": {},
   "outputs": [],
   "source": [
    "# Randomly read 'n' samples from the excel file\n",
    "n = 2000\n",
    "\n",
    "file_path = '../data/medicine_description.xlsx'\n",
    "data = pd.read_excel(file_path, sheet_name='Sheet1', header=0)\n",
    "\n",
    "rdn_data = data.sample(n=n, random_state=42) \n",
    "rdn_data = rdn_data.reset_index(drop=True)"
   ]
  },
  {
   "cell_type": "code",
   "execution_count": 81,
   "metadata": {},
   "outputs": [
    {
     "data": {
      "text/html": [
       "<div>\n",
       "<style scoped>\n",
       "    .dataframe tbody tr th:only-of-type {\n",
       "        vertical-align: middle;\n",
       "    }\n",
       "\n",
       "    .dataframe tbody tr th {\n",
       "        vertical-align: top;\n",
       "    }\n",
       "\n",
       "    .dataframe thead th {\n",
       "        text-align: right;\n",
       "    }\n",
       "</style>\n",
       "<table border=\"1\" class=\"dataframe\">\n",
       "  <thead>\n",
       "    <tr style=\"text-align: right;\">\n",
       "      <th></th>\n",
       "      <th>Drug_Name</th>\n",
       "      <th>Reason</th>\n",
       "      <th>Description</th>\n",
       "    </tr>\n",
       "  </thead>\n",
       "  <tbody>\n",
       "    <tr>\n",
       "      <th>0</th>\n",
       "      <td>Seriwok 10mg Tablet 10'S</td>\n",
       "      <td>Pain</td>\n",
       "      <td>fever, operative pain, dental pain, musculosk...</td>\n",
       "    </tr>\n",
       "    <tr>\n",
       "      <th>1</th>\n",
       "      <td>EPI O2 Capsule 10'S</td>\n",
       "      <td>Supplement</td>\n",
       "      <td>antioxidant and memory enhancement property</td>\n",
       "    </tr>\n",
       "    <tr>\n",
       "      <th>2</th>\n",
       "      <td>Xymex Drops 30mlXymex Drops 15mlXymex Syrup 200ml</td>\n",
       "      <td>Digestion</td>\n",
       "      <td>it is used to treat bloating, flatulence and ...</td>\n",
       "    </tr>\n",
       "    <tr>\n",
       "      <th>3</th>\n",
       "      <td>Montgold Kid Tablet 10'S</td>\n",
       "      <td>Allergies</td>\n",
       "      <td>releief from all type of allergies</td>\n",
       "    </tr>\n",
       "    <tr>\n",
       "      <th>4</th>\n",
       "      <td>Tiam 100mg Capsule 10'STiam 75mg Tablet 10'STI...</td>\n",
       "      <td>Supplement</td>\n",
       "      <td>protects your cells from oxidation, and neutra...</td>\n",
       "    </tr>\n",
       "  </tbody>\n",
       "</table>\n",
       "</div>"
      ],
      "text/plain": [
       "                                           Drug_Name      Reason  \\\n",
       "0                           Seriwok 10mg Tablet 10'S        Pain   \n",
       "1                                EPI O2 Capsule 10'S  Supplement   \n",
       "2  Xymex Drops 30mlXymex Drops 15mlXymex Syrup 200ml   Digestion   \n",
       "3                           Montgold Kid Tablet 10'S   Allergies   \n",
       "4  Tiam 100mg Capsule 10'STiam 75mg Tablet 10'STI...  Supplement   \n",
       "\n",
       "                                         Description  \n",
       "0   fever, operative pain, dental pain, musculosk...  \n",
       "1        antioxidant and memory enhancement property  \n",
       "2   it is used to treat bloating, flatulence and ...  \n",
       "3                 releief from all type of allergies  \n",
       "4  protects your cells from oxidation, and neutra...  "
      ]
     },
     "execution_count": 81,
     "metadata": {},
     "output_type": "execute_result"
    }
   ],
   "source": [
    "rdn_data.head()"
   ]
  },
  {
   "cell_type": "code",
   "execution_count": 82,
   "metadata": {},
   "outputs": [
    {
     "data": {
      "text/plain": [
       "array(['Acne', 'Adhd', 'Allergies', 'Alzheimer', 'Amoebiasis', 'Anaemia',\n",
       "       'Angina', 'Anxiety', 'Appetite', 'Arrhythmiasis', 'Arthritis',\n",
       "       'Cleanser', 'Constipation', 'Contraception', 'Dandruff',\n",
       "       'Depression', 'Diabetes', 'Diarrhoea', 'Digestion', 'Fever',\n",
       "       'Fungal', 'General', 'Glaucoma', 'Gout', 'Haematopoiesis',\n",
       "       'Haemorrhoid', 'Hyperpigmentation', 'Hypertension',\n",
       "       'Hyperthyroidism', 'Hypnosis', 'Hypotension', 'Hypothyroidism',\n",
       "       'Infection', 'Malarial', 'Migraine', 'Mydriasis', 'Osteoporosis',\n",
       "       'Pain', 'Parkinson', 'Psychosis', 'Pyrexia', 'Scabies',\n",
       "       'Schizophrenia', 'Smoking', 'Supplement', 'Thrombolysis',\n",
       "       'Vaccines', 'Vertigo', 'Viral', 'Wound'], dtype=object)"
      ]
     },
     "execution_count": 82,
     "metadata": {},
     "output_type": "execute_result"
    }
   ],
   "source": [
    "np.unique(rdn_data['Reason'])"
   ]
  },
  {
   "cell_type": "markdown",
   "metadata": {},
   "source": [
    "#### 2. Map unique 'Reason' values to numerical indices"
   ]
  },
  {
   "cell_type": "code",
   "execution_count": 47,
   "metadata": {},
   "outputs": [],
   "source": [
    "# Create a dictionary to assign a unique integer to each 'Reason'\n",
    "med_data = rdn_data\n",
    "reasons = med_data['Reason'].unique()\n",
    "reasons_hash = {reason: idx for idx, reason in enumerate(reasons)}"
   ]
  },
  {
   "cell_type": "markdown",
   "metadata": {},
   "source": [
    "#### 3. Format the 'Drug_Name' column"
   ]
  },
  {
   "cell_type": "code",
   "execution_count": 48,
   "metadata": {},
   "outputs": [
    {
     "data": {
      "text/plain": [
       "0                 Drug: Seriwok 10mg Tablet 10'S\\nMalady:\n",
       "1                      Drug: EPI O2 Capsule 10'S\\nMalady:\n",
       "2       Drug: Xymex Drops 30mlXymex Drops 15mlXymex Sy...\n",
       "3                 Drug: Montgold Kid Tablet 10'S\\nMalady:\n",
       "4       Drug: Tiam 100mg Capsule 10'STiam 75mg Tablet ...\n",
       "                              ...                        \n",
       "1995           Drug: Newbona Strong Capsule 10'S\\nMalady:\n",
       "1996    Drug: Glimestar M 0.5mg Tablet 10'SGlimestar M...\n",
       "1997    Drug: Levorid 5mg Tablet 50'SLevorid Tablet 10...\n",
       "1998    Drug: Itrason 200mg Capsule 4'SItrason 100mg C...\n",
       "1999    Drug: Tabtret 5mg Tablet 10'STabtret 10mg Tabl...\n",
       "Name: Drug_Name, Length: 2000, dtype: object"
      ]
     },
     "execution_count": 48,
     "metadata": {},
     "output_type": "execute_result"
    }
   ],
   "source": [
    "# Add 'Drug:' and 'Malady:' prefixes for structured formatting\n",
    "med_data['Drug_Name'] = 'Drug: ' + med_data['Drug_Name'] + '\\n' + 'Malady:'\n",
    "med_data['Drug_Name']"
   ]
  },
  {
   "cell_type": "markdown",
   "metadata": {},
   "source": [
    "#### 4. Replace 'Reason' values with numerical indices"
   ]
  },
  {
   "cell_type": "code",
   "execution_count": 49,
   "metadata": {},
   "outputs": [
    {
     "data": {
      "text/plain": [
       "0       0\n",
       "1       1\n",
       "2       2\n",
       "3       3\n",
       "4       1\n",
       "       ..\n",
       "1995    1\n",
       "1996    5\n",
       "1997    3\n",
       "1998    7\n",
       "1999    9\n",
       "Name: Reason, Length: 2000, dtype: object"
      ]
     },
     "execution_count": 49,
     "metadata": {},
     "output_type": "execute_result"
    }
   ],
   "source": [
    "# Use the dictionary created earlier to replace textual reasons with their corresponding indices\n",
    "med_data['Reason'] = med_data['Reason'].apply(lambda x: str(reasons_hash[x]))\n",
    "med_data['Reason']"
   ]
  },
  {
   "cell_type": "markdown",
   "metadata": {},
   "source": [
    "#### 5. Drop unnecessary columns"
   ]
  },
  {
   "cell_type": "code",
   "execution_count": 50,
   "metadata": {},
   "outputs": [],
   "source": [
    "# Remove the 'Description' column\n",
    "med_data.drop(['Description'], axis=1, inplace=True)"
   ]
  },
  {
   "cell_type": "code",
   "execution_count": 51,
   "metadata": {},
   "outputs": [
    {
     "data": {
      "text/html": [
       "<div>\n",
       "<style scoped>\n",
       "    .dataframe tbody tr th:only-of-type {\n",
       "        vertical-align: middle;\n",
       "    }\n",
       "\n",
       "    .dataframe tbody tr th {\n",
       "        vertical-align: top;\n",
       "    }\n",
       "\n",
       "    .dataframe thead th {\n",
       "        text-align: right;\n",
       "    }\n",
       "</style>\n",
       "<table border=\"1\" class=\"dataframe\">\n",
       "  <thead>\n",
       "    <tr style=\"text-align: right;\">\n",
       "      <th></th>\n",
       "      <th>Drug_Name</th>\n",
       "      <th>Reason</th>\n",
       "    </tr>\n",
       "  </thead>\n",
       "  <tbody>\n",
       "    <tr>\n",
       "      <th>0</th>\n",
       "      <td>Drug: Seriwok 10mg Tablet 10'S\\nMalady:</td>\n",
       "      <td>0</td>\n",
       "    </tr>\n",
       "    <tr>\n",
       "      <th>1</th>\n",
       "      <td>Drug: EPI O2 Capsule 10'S\\nMalady:</td>\n",
       "      <td>1</td>\n",
       "    </tr>\n",
       "    <tr>\n",
       "      <th>2</th>\n",
       "      <td>Drug: Xymex Drops 30mlXymex Drops 15mlXymex Sy...</td>\n",
       "      <td>2</td>\n",
       "    </tr>\n",
       "    <tr>\n",
       "      <th>3</th>\n",
       "      <td>Drug: Montgold Kid Tablet 10'S\\nMalady:</td>\n",
       "      <td>3</td>\n",
       "    </tr>\n",
       "    <tr>\n",
       "      <th>4</th>\n",
       "      <td>Drug: Tiam 100mg Capsule 10'STiam 75mg Tablet ...</td>\n",
       "      <td>1</td>\n",
       "    </tr>\n",
       "  </tbody>\n",
       "</table>\n",
       "</div>"
      ],
      "text/plain": [
       "                                           Drug_Name Reason\n",
       "0            Drug: Seriwok 10mg Tablet 10'S\\nMalady:      0\n",
       "1                 Drug: EPI O2 Capsule 10'S\\nMalady:      1\n",
       "2  Drug: Xymex Drops 30mlXymex Drops 15mlXymex Sy...      2\n",
       "3            Drug: Montgold Kid Tablet 10'S\\nMalady:      3\n",
       "4  Drug: Tiam 100mg Capsule 10'STiam 75mg Tablet ...      1"
      ]
     },
     "execution_count": 51,
     "metadata": {},
     "output_type": "execute_result"
    }
   ],
   "source": [
    "med_data.head()"
   ]
  },
  {
   "cell_type": "markdown",
   "metadata": {},
   "source": [
    "### C. Split Data into Training and Validation Sets"
   ]
  },
  {
   "cell_type": "markdown",
   "metadata": {},
   "source": [
    "#### 6. Perform an 80-20 split"
   ]
  },
  {
   "cell_type": "code",
   "execution_count": 52,
   "metadata": {},
   "outputs": [],
   "source": [
    "# Split the dataset into training and validation datasets\n",
    "train_data, val_data = train_test_split(med_data, train_size=0.8, random_state=100)"
   ]
  },
  {
   "cell_type": "code",
   "execution_count": 53,
   "metadata": {},
   "outputs": [
    {
     "data": {
      "text/html": [
       "<div>\n",
       "<style scoped>\n",
       "    .dataframe tbody tr th:only-of-type {\n",
       "        vertical-align: middle;\n",
       "    }\n",
       "\n",
       "    .dataframe tbody tr th {\n",
       "        vertical-align: top;\n",
       "    }\n",
       "\n",
       "    .dataframe thead th {\n",
       "        text-align: right;\n",
       "    }\n",
       "</style>\n",
       "<table border=\"1\" class=\"dataframe\">\n",
       "  <thead>\n",
       "    <tr style=\"text-align: right;\">\n",
       "      <th></th>\n",
       "      <th>Drug_Name</th>\n",
       "      <th>Reason</th>\n",
       "    </tr>\n",
       "  </thead>\n",
       "  <tbody>\n",
       "    <tr>\n",
       "      <th>1025</th>\n",
       "      <td>Drug: Hepcdac 60mg Tablet 28'S\\nMalady:</td>\n",
       "      <td>22</td>\n",
       "    </tr>\n",
       "    <tr>\n",
       "      <th>1208</th>\n",
       "      <td>Drug: Para Nc Tablet 10's\\nMalady:</td>\n",
       "      <td>0</td>\n",
       "    </tr>\n",
       "    <tr>\n",
       "      <th>1055</th>\n",
       "      <td>Drug: Amchek L Tablet 10'S\\nMalady:</td>\n",
       "      <td>11</td>\n",
       "    </tr>\n",
       "    <tr>\n",
       "      <th>367</th>\n",
       "      <td>Drug: Qupin 50mg Tablet 10'S\\nMalady:</td>\n",
       "      <td>8</td>\n",
       "    </tr>\n",
       "    <tr>\n",
       "      <th>815</th>\n",
       "      <td>Drug: Rapidon Eye Drops 5ml\\nMalady:</td>\n",
       "      <td>3</td>\n",
       "    </tr>\n",
       "  </tbody>\n",
       "</table>\n",
       "</div>"
      ],
      "text/plain": [
       "                                    Drug_Name Reason\n",
       "1025  Drug: Hepcdac 60mg Tablet 28'S\\nMalady:     22\n",
       "1208       Drug: Para Nc Tablet 10's\\nMalady:      0\n",
       "1055      Drug: Amchek L Tablet 10'S\\nMalady:     11\n",
       "367     Drug: Qupin 50mg Tablet 10'S\\nMalady:      8\n",
       "815      Drug: Rapidon Eye Drops 5ml\\nMalady:      3"
      ]
     },
     "execution_count": 53,
     "metadata": {},
     "output_type": "execute_result"
    }
   ],
   "source": [
    "val_data.head()"
   ]
  },
  {
   "cell_type": "code",
   "execution_count": 54,
   "metadata": {},
   "outputs": [
    {
     "data": {
      "text/plain": [
       "((1600, 2), (400, 2))"
      ]
     },
     "execution_count": 54,
     "metadata": {},
     "output_type": "execute_result"
    }
   ],
   "source": [
    "train_data.shape, val_data.shape"
   ]
  },
  {
   "cell_type": "markdown",
   "metadata": {},
   "source": [
    "### D. Prepare Data for Fine-Tuning"
   ]
  },
  {
   "cell_type": "markdown",
   "metadata": {},
   "source": [
    "#### 7. Define a function to convert DataFrame to JSONL format"
   ]
  },
  {
   "cell_type": "code",
   "execution_count": 55,
   "metadata": {},
   "outputs": [],
   "source": [
    "# Convert rows into JSONL format for fine-tuning\n",
    "def convert_to_jsonl(df, output):\n",
    "    result = []\n",
    "    system_message = {'role': 'system', 'content': 'you are a drug classification assistant!'}\n",
    "\n",
    "    for _, row in df.iterrows():\n",
    "        user_message = {'role': 'user', 'content': row['Drug_Name']}\n",
    "        assistant_message = {'role': 'assistant', 'content': row['Reason']}\n",
    "        result.append({'messages': [system_message, user_message, assistant_message]})\n",
    "\n",
    "    with open(output, 'w') as f:\n",
    "        for entry in result:\n",
    "            f.write(json.dumps(entry) + '\\n')"
   ]
  },
  {
   "cell_type": "markdown",
   "metadata": {},
   "source": [
    "#### 8. Convert training and validation datasets"
   ]
  },
  {
   "cell_type": "code",
   "execution_count": 56,
   "metadata": {},
   "outputs": [],
   "source": [
    "# Save the training and validation datasets as JSONL files\n",
    "convert_to_jsonl(train_data, 'train_data.jsonl')\n",
    "convert_to_jsonl(val_data, 'val_data.jsonl')"
   ]
  },
  {
   "cell_type": "markdown",
   "metadata": {},
   "source": [
    "### E. Upload Data for Fine-Tuning"
   ]
  },
  {
   "cell_type": "markdown",
   "metadata": {},
   "source": [
    "#### 9. Set up OpenAI API"
   ]
  },
  {
   "cell_type": "code",
   "execution_count": 4,
   "metadata": {},
   "outputs": [],
   "source": [
    "# Load API credentials and initialize OpenAI client\n",
    "load_dotenv()\n",
    "api_key = os.getenv('openai_api_key')\n",
    "client = OpenAI(api_key=api_key)"
   ]
  },
  {
   "cell_type": "markdown",
   "metadata": {},
   "source": [
    "#### 10. Upload JSONL files to OpenAI"
   ]
  },
  {
   "cell_type": "code",
   "execution_count": 58,
   "metadata": {},
   "outputs": [],
   "source": [
    "# Upload training and validation datasets for fine-tuning\n",
    "train_data = client.files.create(\n",
    "    file=open('train_data.jsonl', 'rb'),\n",
    "    purpose='fine-tune'\n",
    ")\n",
    "\n",
    "val_data = client.files.create(\n",
    "    file=open('val_data.jsonl', 'rb'),\n",
    "    purpose='fine-tune'\n",
    ")"
   ]
  },
  {
   "cell_type": "markdown",
   "metadata": {},
   "source": [
    "### F. Fine-Tune the Model"
   ]
  },
  {
   "cell_type": "markdown",
   "metadata": {},
   "source": [
    "#### 11: Create a fine-tuning job"
   ]
  },
  {
   "cell_type": "code",
   "execution_count": null,
   "metadata": {},
   "outputs": [],
   "source": [
    "suffix = 'drug-classifier'\n",
    "\n",
    "fine_tune_job = client.fine_tuning.jobs.create(\n",
    "    training_file=train_data.id,\n",
    "    model='gpt-3.5-turbo-0125',\n",
    "    validation_file=val_data.id,\n",
    "    suffix=suffix\n",
    ")\n",
    "print(f\"Fine-tuning job '{suffix}' created with ID: {fine_tune_job.id}\")\n",
    "\n",
    "updated_job = client.fine_tuning.jobs.retrieve(fine_tune_job.id)\n",
    "print(f\"Fine-tuned Model ID: {updated_job.fine_tuned_model}\")"
   ]
  },
  {
   "cell_type": "code",
   "execution_count": 60,
   "metadata": {},
   "outputs": [
    {
     "name": "stdout",
     "output_type": "stream",
     "text": [
      "Found model: ft:gpt-3.5-turbo-0125:personalapis:drug-classifier:AWSwjiou\n",
      "Found model: ft:gpt-3.5-turbo-0125:personalapis:drug-classifier:AWD9hDg8\n"
     ]
    }
   ],
   "source": [
    "jobs = client.fine_tuning.jobs.list()\n",
    "\n",
    "for job in jobs.data:\n",
    "    if job.fine_tuned_model:\n",
    "        fine_tuned_model = job.fine_tuned_model\n",
    "        print(f\"Found model: {fine_tuned_model}\")\n",
    "        "
   ]
  },
  {
   "cell_type": "code",
   "execution_count": 65,
   "metadata": {},
   "outputs": [],
   "source": [
    "drugs = [\n",
    "    \"A CN Gel(Topical) 20gmA CN Soap 75gm\",\n",
    "    \"Addnok Tablet 20'S\",                   \n",
    "    \"ABICET M Tablet 10's\",                 \n",
    "]"
   ]
  },
  {
   "cell_type": "code",
   "execution_count": 66,
   "metadata": {},
   "outputs": [
    {
     "name": "stdout",
     "output_type": "stream",
     "text": [
      "Drug: A CN Gel(Topical) 20gmA CN Soap 75gm\n",
      "Predicted Malady: 7\n",
      "\n",
      "Drug: Addnok Tablet 20'S\n",
      "Predicted Malady: 0\n",
      "\n",
      "Drug: ABICET M Tablet 10's\n",
      "Predicted Malady: 3\n",
      "\n"
     ]
    }
   ],
   "source": [
    "model = 'ft:gpt-3.5-turbo-0125:personalapis:drug-classifier:AWD9hDg8'\n",
    "\n",
    "for drug_name in drugs:\n",
    "    response = client.chat.completions.create(\n",
    "        model=model,\n",
    "        messages=[\n",
    "            {\"role\": \"user\", \"content\": f\"Drug: {drug_name}\\nMalady:\"}\n",
    "        ],\n",
    "        max_tokens=10,\n",
    "        temperature=0\n",
    "    )\n",
    "    predicted_malady = response.choices[0].message.content.strip()\n",
    "    print(f\"Drug: {drug_name}\\nPredicted Malady: {predicted_malady}\\n\")\n"
   ]
  },
  {
   "cell_type": "code",
   "execution_count": 76,
   "metadata": {},
   "outputs": [
    {
     "name": "stdout",
     "output_type": "stream",
     "text": [
      "I don't know what A CN Gel(Topical) 20gmA CN Soap 75gm is used for.\n",
      "Addnok Tablet 20 is used for Acne.\n",
      "ABICET M Tablet 10 is used for Acne.\n"
     ]
    }
   ],
   "source": [
    "class_map = {\n",
    "    0: \"Acne\",\n",
    "    1: \"ADHD\",\n",
    "    2: \"Allergies\",\n",
    "}\n",
    "\n",
    "for drug in drugs:\n",
    "    drug_name = drug.split(\"'\")[1]\n",
    "    prompt = \"Drug: {}\\nMalady:\".format(drug)\n",
    "    completion = client.chat.completions.create(\n",
    "        model=model,\n",
    "        messages=[\n",
    "            {\"role\": \"user\", \"content\": prompt}\n",
    "        ]\n",
    "    )\n",
    "    response = completion.choices[0].message.content\n",
    "\n",
    "    try:\n",
    "        print(f\"{drug_name} is used for {class_map[int(response)]}.\")\n",
    "    except:\n",
    "        print(f\"I don't know what {drug_name} is used for.\")\n"
   ]
  },
  {
   "cell_type": "markdown",
   "metadata": {},
   "source": [
    "## Fine-tuning based on 3 examples"
   ]
  },
  {
   "cell_type": "code",
   "execution_count": 16,
   "metadata": {},
   "outputs": [],
   "source": [
    "train_data = client.files.create(\n",
    "    file=open('three_examples.jsonl', 'rb'),\n",
    "    purpose='fine-tune'\n",
    ")"
   ]
  },
  {
   "cell_type": "code",
   "execution_count": 17,
   "metadata": {},
   "outputs": [
    {
     "name": "stdout",
     "output_type": "stream",
     "text": [
      "Fine-tuning job created with ID: ftjob-w5o8kR6tzOIQ82DOlayxjuUN\n"
     ]
    }
   ],
   "source": [
    "sq_job = client.fine_tuning.jobs.create(\n",
    "    training_file=train_data.id,\n",
    "    model='gpt-3.5-turbo-0125',\n",
    "    suffix='simple-questions'\n",
    ")\n",
    "\n",
    "print(f\"Fine-tuning job created with ID: {sq_job.id}\")"
   ]
  },
  {
   "cell_type": "code",
   "execution_count": 18,
   "metadata": {},
   "outputs": [
    {
     "name": "stdout",
     "output_type": "stream",
     "text": [
      "Fine-tuned Model ID: None\n"
     ]
    }
   ],
   "source": [
    "# Monitor the fine-tuning job\n",
    "fine_tune_job_id = sq_job.id\n",
    "\n",
    "updated_job = client.fine_tuning.jobs.retrieve(fine_tune_job_id)\n",
    "print(f\"Fine-tuned Model ID: {updated_job.fine_tuned_model}\")\n"
   ]
  },
  {
   "cell_type": "code",
   "execution_count": null,
   "metadata": {},
   "outputs": [],
   "source": []
  }
 ],
 "metadata": {
  "kernelspec": {
   "display_name": "env",
   "language": "python",
   "name": "python3"
  },
  "language_info": {
   "codemirror_mode": {
    "name": "ipython",
    "version": 3
   },
   "file_extension": ".py",
   "mimetype": "text/x-python",
   "name": "python",
   "nbconvert_exporter": "python",
   "pygments_lexer": "ipython3",
   "version": "3.12.0"
  }
 },
 "nbformat": 4,
 "nbformat_minor": 2
}
